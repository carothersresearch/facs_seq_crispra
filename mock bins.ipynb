{
 "cells": [
  {
   "cell_type": "markdown",
   "metadata": {},
   "source": [
    "# mock bins\n",
    "By Joely Nelson\n",
    "\n",
    "Contact: joelyn@cs.washington.edu\n",
    "\n",
    "This notebook is used to generate \"mock bins\", the fluorescence expected to be output by the Illumina sequencer/cell sorting for various guides.\n",
    "\n",
    "We assume that for each cell with a given guide, it will fluoresce at a value within a gaussian distribution. We assume that there will be ``reads`` different cells for this guide that will be sorted by the cell sorter. \n",
    "\n",
    "In real life, the cell sorter is not able to determine the exact fluorescence produced by an given cell, instead it will be able to determine it's range. For example, the cell sorter will be unable to say \"this cell had a fluorescence of 100, but instead will say it fell within the range of 50-100. The amount of resolution we expect the sequencer to have is determined by ``n_bins``. The highest fluorescence expected by the cell sorter is ``max_f``.\n",
    "\n",
    "This notebook will output a file representing the binned histograms fopr each guide, as well as a file containing the true mean and variance for each guide.\n",
    "\n",
    "#### Pipeline Visalization\n",
    "![](.\\\\documentation\\\\mock_bins_pipeline.png)\n",
    "\n",
    "#### Parameters\n",
    "This file takes in the following parameters:\n",
    "\n",
    "* ``fname`` the file name to be read. It should have a column \"ID\" which is unique for every guide variant.\n",
    "* ``reads`` the number of reads per guide. How many data points would be generated per guide\n",
    "* ``n_bins`` the number of bins to be generated\n",
    "* ``max_f`` the maximum fluorescence that we expect for binning\n",
    "\n",
    "#### Outputs\n",
    "For each named guide in the given file, a random mean and variance is generated. These means and variances are used to generate mock flourescent data using a gaussian distribution. This data is then binned. The histogram data is exported as a xlsx file, as well as the true means and variances for each guide. The output file will be saved in ``data/mock_bins_counts.xlsx``\n",
    "\n",
    "The true mean and variance for each guide is saved in the file ``data/mock_bins_params.xlsx``\n",
    "\n",
    "\n",
    "#### Example\n",
    "\n",
    "The ``fname`` is expected to be an excel file that might look something like this\n",
    "\n",
    "|   | Library |            ID |                                          Sequence |               Spacer | PAM | Position | Strand |\n",
    "|--:|--------:|--------------:|--------------------------------------------------:|---------------------:|----:|---------:|-------:|\n",
    "| 0 | 1_poxB  | poxBp_T7_TGT  | CTGAAGTCAGCCCCATACGATATAAGTTGTTACTAGATTGACAGCT... | TCCGTCAGATGAACTAAACT | TGT | 7.0      | Top    |\n",
    "| 1 | 1_poxB  | poxBp_T17_GAA | CTGAAGTCAGCCCCATACGATATAAGTTGTTACTAGATTGACAGCT... | CCCTTCCCCCTCCGTCAGAT | GAA | 17.0     | Top    |\n",
    "| 2 | 1_poxB  | poxBp_T18_TGA | CTGAAGTCAGCCCCATACGATATAAGTTGTTACTAGATTGACAGCT... | TCCCTTCCCCCTCCGTCAGA | TGA | 18.0     | Top    |\n",
    "| 3 | 1_poxB  | poxBp_T20_GAT | CTGAAGTCAGCCCCATACGATATAAGTTGTTACTAGATTGACAGCT... | CATCCCTTCCCCCTCCGTCA | GAT | 20.0     | Top    |\n",
    "| 4 | 1_poxB  | poxBp_T21_AGA | CTGAAGTCAGCCCCATACGATATAAGTTGTTACTAGATTGACAGCT... | CCATCCCTTCCCCCTCCGTC | AGA | 21.0     | Top    |\n",
    "\n",
    "The important field is that of the ID column\n",
    "\n",
    "For our other parameters, let's say we have:\n",
    "```\n",
    "reads = 15000\n",
    "n_bins = 10\n",
    "max_f = 10000\n",
    "```\n",
    "\n",
    "The output saved to ``data/mock_bins_counts.xlsx`` would look like this:\n",
    "\n",
    "|            ID |   0 |  1000 |   2000 |   3000 |   4000 |   5000 |   6000 |   7000 | 8000 | 9000 |\n",
    "|--------------:|----:|------:|-------:|-------:|-------:|-------:|-------:|-------:|-----:|-----:|\n",
    "|  poxBp_T7_TGT | 6.0 | 559.0 | 5172.0 | 7461.0 | 1741.0 |   61.0 |    0.0 |    0.0 |  0.0 | 0.0  |\n",
    "| poxBp_T17_GAA | 0.0 |   0.0 |    3.0 |   96.0 | 1938.0 | 7422.0 | 4942.0 |  586.0 | 13.0 | 0.0  |\n",
    "| poxBp_T18_TGA | 0.0 |   1.0 |   93.0 | 1298.0 | 5064.0 | 6162.0 | 2148.0 |  230.0 |  4.0 | 0.0  |\n",
    "| poxBp_T20_GAT | 0.0 |   0.0 |    1.0 |   93.0 | 1576.0 | 6170.0 | 5734.0 | 1354.0 | 69.0 | 3.0  |\n",
    "| poxBp_T21_AGA | 0.0 |   9.0 |  274.0 | 2858.0 | 6992.0 | 4239.0 |  606.0 |   22.0 |  0.0 | 0.0  |\n",
    "|           ... | ... |   ... |    ... |    ... |    ... |    ... |    ... |    ... |  ... | ...  |\n",
    "|   J3_B195_CGC | 0.0 |  83.0 | 1363.0 | 5877.0 | 6013.0 | 1569.0 |   94.0 |    1.0 |  0.0 | 0.0  |\n",
    "|   J3_B197_CAA | 0.0 |   3.0 |  495.0 | 5398.0 | 7681.0 | 1393.0 |   29.0 |    1.0 |  0.0 | 0.0  |\n",
    "|   J3_B201_TGC | 0.0 |   0.0 |   10.0 |  277.0 | 2954.0 | 7155.0 | 4063.0 |  526.0 | 15.0 | 0.0  |\n",
    "|         J3_OT | 0.0 |   0.0 |    2.0 |  194.0 | 3134.0 | 7945.0 | 3457.0 |  262.0 |  6.0 | 0.0  |\n",
    "| J3_OT_mutTATA | 0.0 |   0.0 |    0.0 |   18.0 |  936.0 | 6037.0 | 6672.0 | 1292.0 | 45.0 | 0.0  |\n",
    "\n",
    "The output saved to ``data/mock_bins.params.xlsx`` would look like:\n",
    "\n",
    "|            ID |        Mean |   Variance |\n",
    "|--------------:|------------:|-----------:|\n",
    "| poxBp_T7_TGT  | 3197.981694 | 675.965454 |\n",
    "| poxBp_T17_GAA | 5767.974676 | 706.882804 |\n",
    "| poxBp_T18_TGA | 5142.343422 | 854.816014 |\n",
    "| poxBp_T20_GAT | 5963.503534 | 795.546748 |\n",
    "| poxBp_T21_AGA | 4639.914297 | 785.172958 |\n",
    "| ...           | ...         | ...        |\n",
    "| J3_B195_CGC   | 4023.553637 | 796.059613 |\n",
    "| J3_B197_CAA   | 4169.147612 | 638.928781 |\n",
    "| J3_B201_TGC   | 5611.93888  | 773.825383 |\n",
    "| J3_OT         | 5529.450726 | 703.203954 |\n",
    "| J3_OT_mutTATA | 6058.197958 | 686.367314 |\n",
    "\n",
    "#### Other Features of this Notebook\n",
    "Visualizations to provide sanity checks that the mock data looks similiar to what one might expect from a real life scenario.\n",
    "* Allows user to view the distribution of the fluorescence for each guide at a higher resolution than the cell sorter would allow for.\n",
    "* Allows user to view the distribution of the fluorescence for each guide at the same resolution that the cell sorter would allow for."
   ]
  },
  {
   "cell_type": "markdown",
   "metadata": {},
   "source": [
    "## Imports"
   ]
  },
  {
   "cell_type": "code",
   "execution_count": 1,
   "metadata": {},
   "outputs": [],
   "source": [
    "import pandas as pd\n",
    "import numpy as np\n",
    "import matplotlib.pyplot as plt"
   ]
  },
  {
   "cell_type": "markdown",
   "metadata": {},
   "source": [
    "## Parameters\n",
    "These parameters specify what parameters you want to use for the rest of the program.\n",
    "* ``fname`` the file name to be read. It should have a column ID which is unique for every guide variant\n",
    "* ``reads`` the number of reads per guide. How many data points would be generated per guide\n",
    "* ``n_bins`` the number of bins to be generated\n",
    "* ``max_f`` the maximum flouresence that we expect for binning"
   ]
  },
  {
   "cell_type": "code",
   "execution_count": 2,
   "metadata": {},
   "outputs": [],
   "source": [
    "fname = 'data/20191118-Sequences for synthesis_v2_VALIDATED.xlsx'\n",
    "reads = 15000\n",
    "n_bins = 10\n",
    "max_f = 10000"
   ]
  },
  {
   "cell_type": "markdown",
   "metadata": {},
   "source": [
    "### Printouts"
   ]
  },
  {
   "cell_type": "code",
   "execution_count": 3,
   "metadata": {},
   "outputs": [
    {
     "data": {
      "text/html": [
       "<div>\n",
       "<style scoped>\n",
       "    .dataframe tbody tr th:only-of-type {\n",
       "        vertical-align: middle;\n",
       "    }\n",
       "\n",
       "    .dataframe tbody tr th {\n",
       "        vertical-align: top;\n",
       "    }\n",
       "\n",
       "    .dataframe thead th {\n",
       "        text-align: right;\n",
       "    }\n",
       "</style>\n",
       "<table border=\"1\" class=\"dataframe\">\n",
       "  <thead>\n",
       "    <tr style=\"text-align: right;\">\n",
       "      <th></th>\n",
       "      <th>Unnamed: 0</th>\n",
       "      <th>Library</th>\n",
       "      <th>ID</th>\n",
       "      <th>Sequence</th>\n",
       "      <th>Spacer</th>\n",
       "      <th>PAM</th>\n",
       "      <th>Position</th>\n",
       "      <th>Strand</th>\n",
       "    </tr>\n",
       "  </thead>\n",
       "  <tbody>\n",
       "    <tr>\n",
       "      <th>0</th>\n",
       "      <td>0</td>\n",
       "      <td>1_poxB</td>\n",
       "      <td>poxBp_T7_TGT</td>\n",
       "      <td>CTGAAGTCAGCCCCATACGATATAAGTTGTTACTAGATTGACAGCT...</td>\n",
       "      <td>TCCGTCAGATGAACTAAACT</td>\n",
       "      <td>TGT</td>\n",
       "      <td>7.0</td>\n",
       "      <td>Top</td>\n",
       "    </tr>\n",
       "    <tr>\n",
       "      <th>1</th>\n",
       "      <td>1</td>\n",
       "      <td>1_poxB</td>\n",
       "      <td>poxBp_T17_GAA</td>\n",
       "      <td>CTGAAGTCAGCCCCATACGATATAAGTTGTTACTAGATTGACAGCT...</td>\n",
       "      <td>CCCTTCCCCCTCCGTCAGAT</td>\n",
       "      <td>GAA</td>\n",
       "      <td>17.0</td>\n",
       "      <td>Top</td>\n",
       "    </tr>\n",
       "    <tr>\n",
       "      <th>2</th>\n",
       "      <td>2</td>\n",
       "      <td>1_poxB</td>\n",
       "      <td>poxBp_T18_TGA</td>\n",
       "      <td>CTGAAGTCAGCCCCATACGATATAAGTTGTTACTAGATTGACAGCT...</td>\n",
       "      <td>TCCCTTCCCCCTCCGTCAGA</td>\n",
       "      <td>TGA</td>\n",
       "      <td>18.0</td>\n",
       "      <td>Top</td>\n",
       "    </tr>\n",
       "    <tr>\n",
       "      <th>3</th>\n",
       "      <td>3</td>\n",
       "      <td>1_poxB</td>\n",
       "      <td>poxBp_T20_GAT</td>\n",
       "      <td>CTGAAGTCAGCCCCATACGATATAAGTTGTTACTAGATTGACAGCT...</td>\n",
       "      <td>CATCCCTTCCCCCTCCGTCA</td>\n",
       "      <td>GAT</td>\n",
       "      <td>20.0</td>\n",
       "      <td>Top</td>\n",
       "    </tr>\n",
       "    <tr>\n",
       "      <th>4</th>\n",
       "      <td>4</td>\n",
       "      <td>1_poxB</td>\n",
       "      <td>poxBp_T21_AGA</td>\n",
       "      <td>CTGAAGTCAGCCCCATACGATATAAGTTGTTACTAGATTGACAGCT...</td>\n",
       "      <td>CCATCCCTTCCCCCTCCGTC</td>\n",
       "      <td>AGA</td>\n",
       "      <td>21.0</td>\n",
       "      <td>Top</td>\n",
       "    </tr>\n",
       "  </tbody>\n",
       "</table>\n",
       "</div>"
      ],
      "text/plain": [
       "   Unnamed: 0 Library             ID  \\\n",
       "0           0  1_poxB   poxBp_T7_TGT   \n",
       "1           1  1_poxB  poxBp_T17_GAA   \n",
       "2           2  1_poxB  poxBp_T18_TGA   \n",
       "3           3  1_poxB  poxBp_T20_GAT   \n",
       "4           4  1_poxB  poxBp_T21_AGA   \n",
       "\n",
       "                                            Sequence                Spacer  \\\n",
       "0  CTGAAGTCAGCCCCATACGATATAAGTTGTTACTAGATTGACAGCT...  TCCGTCAGATGAACTAAACT   \n",
       "1  CTGAAGTCAGCCCCATACGATATAAGTTGTTACTAGATTGACAGCT...  CCCTTCCCCCTCCGTCAGAT   \n",
       "2  CTGAAGTCAGCCCCATACGATATAAGTTGTTACTAGATTGACAGCT...  TCCCTTCCCCCTCCGTCAGA   \n",
       "3  CTGAAGTCAGCCCCATACGATATAAGTTGTTACTAGATTGACAGCT...  CATCCCTTCCCCCTCCGTCA   \n",
       "4  CTGAAGTCAGCCCCATACGATATAAGTTGTTACTAGATTGACAGCT...  CCATCCCTTCCCCCTCCGTC   \n",
       "\n",
       "   PAM  Position Strand  \n",
       "0  TGT       7.0    Top  \n",
       "1  GAA      17.0    Top  \n",
       "2  TGA      18.0    Top  \n",
       "3  GAT      20.0    Top  \n",
       "4  AGA      21.0    Top  "
      ]
     },
     "execution_count": 3,
     "metadata": {},
     "output_type": "execute_result"
    }
   ],
   "source": [
    "df = pd.read_excel(fname)\n",
    "df.head()"
   ]
  },
  {
   "cell_type": "code",
   "execution_count": 4,
   "metadata": {},
   "outputs": [
    {
     "data": {
      "text/plain": [
       "1732"
      ]
     },
     "execution_count": 4,
     "metadata": {},
     "output_type": "execute_result"
    }
   ],
   "source": [
    "# the total number of entries in the dataset\n",
    "len(df)"
   ]
  },
  {
   "cell_type": "code",
   "execution_count": 5,
   "metadata": {},
   "outputs": [
    {
     "data": {
      "text/plain": [
       "25980000"
      ]
     },
     "execution_count": 5,
     "metadata": {},
     "output_type": "execute_result"
    }
   ],
   "source": [
    "# the total amount of reads generated total for the whole data set\n",
    "len(df) * reads "
   ]
  },
  {
   "cell_type": "markdown",
   "metadata": {},
   "source": [
    "## Helper Functions\n",
    "These functions help bin and graph values"
   ]
  },
  {
   "cell_type": "code",
   "execution_count": 6,
   "metadata": {},
   "outputs": [],
   "source": [
    "def bin_values(x, n_bins, max_f):\n",
    "    '''\n",
    "    Bins values as the cell sorter will.\n",
    "    \n",
    "    ARGS:\n",
    "        -x: (arr) the data as a numpy array\n",
    "        -n_bins: (int) number of bins\n",
    "        -max_f: (number) the max flourescence value\n",
    "        \n",
    "    RETURNS:\n",
    "        Tuple with two lists. Each list will be length n_bins\n",
    "            -A list of the labels for the bins. Will start at 0,\n",
    "             and go up to max_f.\n",
    "            -Associated count for each of the bins.\n",
    "        For index i, count[i] represents the count of all values\n",
    "        from x that fell in between the values label[i] and\n",
    "        label[i+1] - 1.\n",
    "        For the last index, index n_bins - 1, this represents\n",
    "        the count of all values from x that fell between\n",
    "        label[n_bins - 1] and infinity.\n",
    "        \n",
    "    EXAMPLE USAGE:\n",
    "        Code:\n",
    "            x = np.array([-1, 0, 1, 5500, 500, 10000, 12000])\n",
    "            bins, counts = bin_values(x, 10, 10000)\n",
    "            print(\"bins\", bins)\n",
    "            print(\"counts\", counts)\n",
    "        Output:\n",
    "            bins [0, 1000, 2000, 3000, 4000, 5000, 6000, 7000, 8000, 9000]\n",
    "            counts [4, 0, 0, 0, 0, 1, 0, 0, 0, 2]        \n",
    "    '''\n",
    "    \n",
    "    step = int(max_f / n_bins)\n",
    "    bins = [int(i) for i in range(0, max_f + step, step)]\n",
    "    \n",
    "    counts = []        \n",
    "    \n",
    "    # regular case for everything within the bounds\n",
    "    for i in range(n_bins):\n",
    "        counts.append(len(x[(x >= bins[i]) & (x < bins[i + 1])]))\n",
    "        \n",
    "    # special case for things outside the bounds\n",
    "    counts[0]  = counts[0] + len(x[x < 0])\n",
    "    counts[-1] = counts[-1] + len(x[x >= bins[-1]])\n",
    "    \n",
    "    return bins[:len(counts)], counts    "
   ]
  },
  {
   "cell_type": "code",
   "execution_count": 7,
   "metadata": {},
   "outputs": [],
   "source": [
    "def gen_hist(bins, counts, labels = True):\n",
    "    '''\n",
    "    Graphs a histogram given bins and counts\n",
    "    ARGS:\n",
    "        -bins: A list of bins of length n_bins.\n",
    "        -counts: A list of counts of length n_bins.\n",
    "         For index i, count[i] represents the count of all values\n",
    "         from x that fell in between the values label[i] and\n",
    "         label[i+1] - 1.\n",
    "         For the last index, index n_bins - 1, this represents\n",
    "         the count of all values from x that fell between\n",
    "         label[n_bins - 1] and infinity.\n",
    "        -labels: (bool) if True, will display labels.\n",
    "                 If False, does not show labels.\n",
    "    '''\n",
    "    assert(len(bins) == len(counts)), \"length of bins and counts must be the same. len(counts) = \" + str(len(counts)) + \"len(bins) = \" + str(len(bins)) \n",
    "    \n",
    "    y_pos = np.arange(len(bins))\n",
    "    plt.bar(y_pos, counts, align='edge')\n",
    "    \n",
    "    if labels:\n",
    "        plt.xticks(y_pos, bins,  rotation='vertical')\n",
    "    \n",
    "    plt.ylabel('Counts')\n",
    "    plt.xlabel('Fluorescence')\n",
    "    plt.show()\n",
    "    plt.close()"
   ]
  },
  {
   "cell_type": "markdown",
   "metadata": {},
   "source": [
    "#### Example Usage"
   ]
  },
  {
   "cell_type": "code",
   "execution_count": 23,
   "metadata": {},
   "outputs": [
    {
     "name": "stdout",
     "output_type": "stream",
     "text": [
      "bins [0, 1000, 2000, 3000, 4000, 5000, 6000, 7000, 8000, 9000]\n",
      "counts [4, 0, 0, 0, 0, 1, 0, 0, 0, 2]\n"
     ]
    },
    {
     "data": {
      "image/png": "[encoded data removed]",
      "text/plain": [
       "<Figure size 432x288 with 1 Axes>"
      ]
     },
     "metadata": {
      "needs_background": "light"
     },
     "output_type": "display_data"
    }
   ],
   "source": [
    "# Say we are given the following list of flourecent values:\n",
    "x = np.array([-1, 0, 1, 5500, 500, 10000, 12000])\n",
    "\n",
    "# we want to bin it into 10 bins and we know the maximum flourescence is 10000\n",
    "bins, counts = bin_values(x, 10, 10000)\n",
    "print(\"bins\", bins)\n",
    "print(\"counts\", counts)\n",
    "\n",
    "# graph the histogram\n",
    "gen_hist(bins, counts)"
   ]
  },
  {
   "cell_type": "markdown",
   "metadata": {},
   "source": [
    "# Exploration\n",
    "We place any exploratory steps here that are used to determine things about the final data generation, but are not used in the generation itself."
   ]
  },
  {
   "cell_type": "markdown",
   "metadata": {},
   "source": [
    "## Data Exploration\n",
    "Here I want to double check if their is a column that can be considered a unique identifier for every row. If the length of the dataframe, and the number of unique values is the same, that is an indicator that this is so.\n",
    "\n",
    "The file I used in this analysis was ```data/20191118-Sequences for synthesis_v2_VALIDATED.xlsx```. I found that a unique column was ``\"ID\"`` and so I will use this as the unique identifier for the analysis."
   ]
  },
  {
   "cell_type": "code",
   "execution_count": 9,
   "metadata": {},
   "outputs": [
    {
     "data": {
      "text/plain": [
       "(1732, 1732)"
      ]
     },
     "execution_count": 9,
     "metadata": {},
     "output_type": "execute_result"
    }
   ],
   "source": [
    "len(df), df['ID'].nunique()"
   ]
  },
  {
   "cell_type": "markdown",
   "metadata": {},
   "source": [
    "# Generate Data"
   ]
  },
  {
   "cell_type": "markdown",
   "metadata": {},
   "source": [
    "### Generating gaussian parameters\n",
    "For each guide, generate associated gaussian parameters (mean + variance)."
   ]
  },
  {
   "cell_type": "code",
   "execution_count": 10,
   "metadata": {},
   "outputs": [],
   "source": [
    "# set a seed so this runs the same way each time\n",
    "np.random.seed(seed=363)\n",
    "\n",
    "# n_guides: the number of guides in this set \n",
    "n_guides = len(df)\n",
    "\n",
    "\n",
    "# you can mess around with these numbers to change how mu and sigma are generated\n",
    "# both will come from uniform distributions\n",
    "\n",
    "mu_low = 2750\n",
    "mu_high = 7000\n",
    "\n",
    "sigma_low = 600\n",
    "sigma_high = 900\n",
    "\n",
    "\n",
    "# generate the mus and sigmas for each guides\n",
    "# mu and sigma will be a vector of length n_guides\n",
    "mu = np.random.uniform(low=mu_low, high=mu_high, size=n_guides)\n",
    "sigma = np.random.uniform(low=sigma_low, high=sigma_high, size=n_guides)\n",
    "\n",
    "\n",
    "# To make things easier, ensure that these are all positive\n",
    "mu = abs(mu)\n",
    "sigma = abs(sigma)"
   ]
  },
  {
   "cell_type": "markdown",
   "metadata": {},
   "source": [
    "### Generating data\n",
    "For each guide, we use its associated mean and sigma to generate ```reads``` number of data points. This gets stored in a 2D array called ``data``. ``data[i][j]`` is the value for guide ``i`` for replicate ``j``"
   ]
  },
  {
   "cell_type": "code",
   "execution_count": 11,
   "metadata": {},
   "outputs": [],
   "source": [
    "np.random.seed(seed=363)\n",
    "\n",
    "data = np.zeros((n_guides, reads))\n",
    "for i in range(n_guides):\n",
    "    data[i] = np.random.normal(mu[i], sigma[i], reads)    "
   ]
  },
  {
   "cell_type": "markdown",
   "metadata": {},
   "source": [
    "### Viewing \"Raw\" Data\n",
    "The following two cells are intended to sanity check the distributions to see if they look like real distributions we expect from each guide.\n",
    "\n",
    "In order to use this code, first run the cell j = 0, then each time you run the second cell, you will see the distribution for the next guide."
   ]
  },
  {
   "cell_type": "code",
   "execution_count": 12,
   "metadata": {},
   "outputs": [],
   "source": [
    "j = 0"
   ]
  },
  {
   "cell_type": "code",
   "execution_count": 13,
   "metadata": {},
   "outputs": [
    {
     "data": {
      "image/png": "[encoded data removed]",
      "text/plain": [
       "<Figure size 936x288 with 2 Axes>"
      ]
     },
     "metadata": {
      "needs_background": "light"
     },
     "output_type": "display_data"
    }
   ],
   "source": [
    "fig, (ax1, ax2) = plt.subplots(1, 2, figsize = (13,4))\n",
    "\n",
    "st = fig.suptitle(\"Distribution for guide \" + str(j) + \"\\nmu = \" + str(mu[j]) + \", sigma = \" + str(sigma[j]), fontsize=\"x-large\")\n",
    "st.set_y(1.1)\n",
    "\n",
    "# TODO: check if setting some params (like num bins, the xlim and ylim) is ok to do manually?\n",
    "\n",
    "# Graph with x-axis linear\n",
    "ax1.set_title(\"Distribution of flourecence (x axis linear)\")\n",
    "ax1.hist(data[j], 150, facecolor='blue', alpha=0.5)\n",
    "ax1.set_xlim(-1000, 10000)\n",
    "ax1.set_ylim(0, 500)\n",
    "ax1.set_xlabel(\"Flourescence\")\n",
    "ax1.set_ylabel(\"Count\")\n",
    "\n",
    "\n",
    "ax2.set_title(\"Distribution of flourecence (x axis log scale)\")\n",
    "ax2.hist(data[j], 150, facecolor='blue', alpha=0.5)\n",
    "ax2.set_xscale('log')\n",
    "ax2.set_xlim(10**-2, 10**4)\n",
    "ax2.set_xlabel(\"Flourescence\")\n",
    "ax2.set_ylabel(\"Count\")\n",
    "\n",
    "    \n",
    "# update to look at next guide\n",
    "j+= 1"
   ]
  },
  {
   "cell_type": "markdown",
   "metadata": {},
   "source": [
    "### Bin Data\n",
    "For each guide, we bin it into ``n_bins`` bins with the max value being ``max_f`` stored in a data structure called ``data_counts``.\n",
    "\n",
    "``data_counts`` is a 2D array where ``data_counts[i][j]`` is the binned value for guide ``i`` for bin ``j``."
   ]
  },
  {
   "cell_type": "code",
   "execution_count": 14,
   "metadata": {},
   "outputs": [],
   "source": [
    "# this first line is to just figure out how big the final data structure, data_counts\n",
    "# needs to be\n",
    "bins, counts = bin_values(data[0], n_bins, max_f)\n",
    "data_counts = np.zeros((n_guides, len(bins)))\n",
    "\n",
    "for i in range(len(data)):\n",
    "    data_counts[i] = bin_values(data[i], n_bins, max_f)[1]"
   ]
  },
  {
   "cell_type": "markdown",
   "metadata": {},
   "source": [
    "### Viewing the Binned Data\n",
    "The following two cells are intended to sanity check the binned histograms.\n",
    "\n",
    "In order to use this code, first run the cell j = 0, then each time you run the second cell, you will see the histofram for the next guide."
   ]
  },
  {
   "cell_type": "code",
   "execution_count": 15,
   "metadata": {},
   "outputs": [],
   "source": [
    "j = 0"
   ]
  },
  {
   "cell_type": "code",
   "execution_count": 16,
   "metadata": {},
   "outputs": [
    {
     "data": {
      "image/png": "[encoded data removed]",
      "text/plain": [
       "<Figure size 432x288 with 1 Axes>"
      ]
     },
     "metadata": {
      "needs_background": "light"
     },
     "output_type": "display_data"
    }
   ],
   "source": [
    "gen_hist(bins, data_counts[j])\n",
    "j += 1"
   ]
  },
  {
   "cell_type": "markdown",
   "metadata": {},
   "source": [
    "# Exporting Data\n",
    "Data is exported to an excel format"
   ]
  },
  {
   "cell_type": "code",
   "execution_count": 17,
   "metadata": {},
   "outputs": [],
   "source": [
    "# get an array of all guide ids\n",
    "# we'll use this as a key so it can be joined with data later\n",
    "ids = np.array(df['ID'])\n",
    "ids.shape = (ids.shape[0], 1)"
   ]
  },
  {
   "cell_type": "markdown",
   "metadata": {},
   "source": [
    "### Known means and vars\n",
    "Export the known mus and sigmas to a file so we will be able to sanity check this later"
   ]
  },
  {
   "cell_type": "code",
   "execution_count": 18,
   "metadata": {},
   "outputs": [
    {
     "data": {
      "text/html": [
       "<div>\n",
       "<style scoped>\n",
       "    .dataframe tbody tr th:only-of-type {\n",
       "        vertical-align: middle;\n",
       "    }\n",
       "\n",
       "    .dataframe tbody tr th {\n",
       "        vertical-align: top;\n",
       "    }\n",
       "\n",
       "    .dataframe thead th {\n",
       "        text-align: right;\n",
       "    }\n",
       "</style>\n",
       "<table border=\"1\" class=\"dataframe\">\n",
       "  <thead>\n",
       "    <tr style=\"text-align: right;\">\n",
       "      <th></th>\n",
       "      <th>ID</th>\n",
       "      <th>Mean</th>\n",
       "      <th>Variance</th>\n",
       "    </tr>\n",
       "  </thead>\n",
       "  <tbody>\n",
       "    <tr>\n",
       "      <th>0</th>\n",
       "      <td>poxBp_T7_TGT</td>\n",
       "      <td>3197.981694</td>\n",
       "      <td>675.965454</td>\n",
       "    </tr>\n",
       "    <tr>\n",
       "      <th>1</th>\n",
       "      <td>poxBp_T17_GAA</td>\n",
       "      <td>5767.974676</td>\n",
       "      <td>706.882804</td>\n",
       "    </tr>\n",
       "    <tr>\n",
       "      <th>2</th>\n",
       "      <td>poxBp_T18_TGA</td>\n",
       "      <td>5142.343422</td>\n",
       "      <td>854.816014</td>\n",
       "    </tr>\n",
       "    <tr>\n",
       "      <th>3</th>\n",
       "      <td>poxBp_T20_GAT</td>\n",
       "      <td>5963.503534</td>\n",
       "      <td>795.546748</td>\n",
       "    </tr>\n",
       "    <tr>\n",
       "      <th>4</th>\n",
       "      <td>poxBp_T21_AGA</td>\n",
       "      <td>4639.914297</td>\n",
       "      <td>785.172958</td>\n",
       "    </tr>\n",
       "    <tr>\n",
       "      <th>...</th>\n",
       "      <td>...</td>\n",
       "      <td>...</td>\n",
       "      <td>...</td>\n",
       "    </tr>\n",
       "    <tr>\n",
       "      <th>1727</th>\n",
       "      <td>J3_B195_CGC</td>\n",
       "      <td>4023.553637</td>\n",
       "      <td>796.059613</td>\n",
       "    </tr>\n",
       "    <tr>\n",
       "      <th>1728</th>\n",
       "      <td>J3_B197_CAA</td>\n",
       "      <td>4169.147612</td>\n",
       "      <td>638.928781</td>\n",
       "    </tr>\n",
       "    <tr>\n",
       "      <th>1729</th>\n",
       "      <td>J3_B201_TGC</td>\n",
       "      <td>5611.93888</td>\n",
       "      <td>773.825383</td>\n",
       "    </tr>\n",
       "    <tr>\n",
       "      <th>1730</th>\n",
       "      <td>J3_OT</td>\n",
       "      <td>5529.450726</td>\n",
       "      <td>703.203954</td>\n",
       "    </tr>\n",
       "    <tr>\n",
       "      <th>1731</th>\n",
       "      <td>J3_OT_mutTATA</td>\n",
       "      <td>6058.197958</td>\n",
       "      <td>686.367314</td>\n",
       "    </tr>\n",
       "  </tbody>\n",
       "</table>\n",
       "<p>1732 rows × 3 columns</p>\n",
       "</div>"
      ],
      "text/plain": [
       "                 ID         Mean    Variance\n",
       "0      poxBp_T7_TGT  3197.981694  675.965454\n",
       "1     poxBp_T17_GAA  5767.974676  706.882804\n",
       "2     poxBp_T18_TGA  5142.343422  854.816014\n",
       "3     poxBp_T20_GAT  5963.503534  795.546748\n",
       "4     poxBp_T21_AGA  4639.914297  785.172958\n",
       "...             ...          ...         ...\n",
       "1727    J3_B195_CGC  4023.553637  796.059613\n",
       "1728    J3_B197_CAA  4169.147612  638.928781\n",
       "1729    J3_B201_TGC   5611.93888  773.825383\n",
       "1730          J3_OT  5529.450726  703.203954\n",
       "1731  J3_OT_mutTATA  6058.197958  686.367314\n",
       "\n",
       "[1732 rows x 3 columns]"
      ]
     },
     "execution_count": 18,
     "metadata": {},
     "output_type": "execute_result"
    }
   ],
   "source": [
    "mu.shape = (mu.shape[0], 1)\n",
    "sigma.shape = (sigma.shape[0], 1)\n",
    "\n",
    "# concat the data so it has a label\n",
    "d_params = np.concatenate((ids, mu, sigma), axis=1)\n",
    "\n",
    "# create the dataframe + export\n",
    "df_params = pd.DataFrame(data=d_params, columns=['ID', 'Mean', 'Variance'])\n",
    "df_params.to_excel('data/mock_bins_params.xlsx')\n",
    "df_params"
   ]
  },
  {
   "cell_type": "markdown",
   "metadata": {},
   "source": [
    "### Data Binned"
   ]
  },
  {
   "cell_type": "code",
   "execution_count": 19,
   "metadata": {},
   "outputs": [
    {
     "data": {
      "text/html": [
       "<div>\n",
       "<style scoped>\n",
       "    .dataframe tbody tr th:only-of-type {\n",
       "        vertical-align: middle;\n",
       "    }\n",
       "\n",
       "    .dataframe tbody tr th {\n",
       "        vertical-align: top;\n",
       "    }\n",
       "\n",
       "    .dataframe thead th {\n",
       "        text-align: right;\n",
       "    }\n",
       "</style>\n",
       "<table border=\"1\" class=\"dataframe\">\n",
       "  <thead>\n",
       "    <tr style=\"text-align: right;\">\n",
       "      <th></th>\n",
       "      <th>ID</th>\n",
       "      <th>0</th>\n",
       "      <th>1000</th>\n",
       "      <th>2000</th>\n",
       "      <th>3000</th>\n",
       "      <th>4000</th>\n",
       "      <th>5000</th>\n",
       "      <th>6000</th>\n",
       "      <th>7000</th>\n",
       "      <th>8000</th>\n",
       "      <th>9000</th>\n",
       "    </tr>\n",
       "  </thead>\n",
       "  <tbody>\n",
       "    <tr>\n",
       "      <th>0</th>\n",
       "      <td>poxBp_T7_TGT</td>\n",
       "      <td>6.0</td>\n",
       "      <td>559.0</td>\n",
       "      <td>5172.0</td>\n",
       "      <td>7461.0</td>\n",
       "      <td>1741.0</td>\n",
       "      <td>61.0</td>\n",
       "      <td>0.0</td>\n",
       "      <td>0.0</td>\n",
       "      <td>0.0</td>\n",
       "      <td>0.0</td>\n",
       "    </tr>\n",
       "    <tr>\n",
       "      <th>1</th>\n",
       "      <td>poxBp_T17_GAA</td>\n",
       "      <td>0.0</td>\n",
       "      <td>0.0</td>\n",
       "      <td>3.0</td>\n",
       "      <td>96.0</td>\n",
       "      <td>1938.0</td>\n",
       "      <td>7422.0</td>\n",
       "      <td>4942.0</td>\n",
       "      <td>586.0</td>\n",
       "      <td>13.0</td>\n",
       "      <td>0.0</td>\n",
       "    </tr>\n",
       "    <tr>\n",
       "      <th>2</th>\n",
       "      <td>poxBp_T18_TGA</td>\n",
       "      <td>0.0</td>\n",
       "      <td>1.0</td>\n",
       "      <td>93.0</td>\n",
       "      <td>1298.0</td>\n",
       "      <td>5064.0</td>\n",
       "      <td>6162.0</td>\n",
       "      <td>2148.0</td>\n",
       "      <td>230.0</td>\n",
       "      <td>4.0</td>\n",
       "      <td>0.0</td>\n",
       "    </tr>\n",
       "    <tr>\n",
       "      <th>3</th>\n",
       "      <td>poxBp_T20_GAT</td>\n",
       "      <td>0.0</td>\n",
       "      <td>0.0</td>\n",
       "      <td>1.0</td>\n",
       "      <td>93.0</td>\n",
       "      <td>1576.0</td>\n",
       "      <td>6170.0</td>\n",
       "      <td>5734.0</td>\n",
       "      <td>1354.0</td>\n",
       "      <td>69.0</td>\n",
       "      <td>3.0</td>\n",
       "    </tr>\n",
       "    <tr>\n",
       "      <th>4</th>\n",
       "      <td>poxBp_T21_AGA</td>\n",
       "      <td>0.0</td>\n",
       "      <td>9.0</td>\n",
       "      <td>274.0</td>\n",
       "      <td>2858.0</td>\n",
       "      <td>6992.0</td>\n",
       "      <td>4239.0</td>\n",
       "      <td>606.0</td>\n",
       "      <td>22.0</td>\n",
       "      <td>0.0</td>\n",
       "      <td>0.0</td>\n",
       "    </tr>\n",
       "    <tr>\n",
       "      <th>...</th>\n",
       "      <td>...</td>\n",
       "      <td>...</td>\n",
       "      <td>...</td>\n",
       "      <td>...</td>\n",
       "      <td>...</td>\n",
       "      <td>...</td>\n",
       "      <td>...</td>\n",
       "      <td>...</td>\n",
       "      <td>...</td>\n",
       "      <td>...</td>\n",
       "      <td>...</td>\n",
       "    </tr>\n",
       "    <tr>\n",
       "      <th>1727</th>\n",
       "      <td>J3_B195_CGC</td>\n",
       "      <td>0.0</td>\n",
       "      <td>83.0</td>\n",
       "      <td>1363.0</td>\n",
       "      <td>5877.0</td>\n",
       "      <td>6013.0</td>\n",
       "      <td>1569.0</td>\n",
       "      <td>94.0</td>\n",
       "      <td>1.0</td>\n",
       "      <td>0.0</td>\n",
       "      <td>0.0</td>\n",
       "    </tr>\n",
       "    <tr>\n",
       "      <th>1728</th>\n",
       "      <td>J3_B197_CAA</td>\n",
       "      <td>0.0</td>\n",
       "      <td>3.0</td>\n",
       "      <td>495.0</td>\n",
       "      <td>5398.0</td>\n",
       "      <td>7681.0</td>\n",
       "      <td>1393.0</td>\n",
       "      <td>29.0</td>\n",
       "      <td>1.0</td>\n",
       "      <td>0.0</td>\n",
       "      <td>0.0</td>\n",
       "    </tr>\n",
       "    <tr>\n",
       "      <th>1729</th>\n",
       "      <td>J3_B201_TGC</td>\n",
       "      <td>0.0</td>\n",
       "      <td>0.0</td>\n",
       "      <td>10.0</td>\n",
       "      <td>277.0</td>\n",
       "      <td>2954.0</td>\n",
       "      <td>7155.0</td>\n",
       "      <td>4063.0</td>\n",
       "      <td>526.0</td>\n",
       "      <td>15.0</td>\n",
       "      <td>0.0</td>\n",
       "    </tr>\n",
       "    <tr>\n",
       "      <th>1730</th>\n",
       "      <td>J3_OT</td>\n",
       "      <td>0.0</td>\n",
       "      <td>0.0</td>\n",
       "      <td>2.0</td>\n",
       "      <td>194.0</td>\n",
       "      <td>3134.0</td>\n",
       "      <td>7945.0</td>\n",
       "      <td>3457.0</td>\n",
       "      <td>262.0</td>\n",
       "      <td>6.0</td>\n",
       "      <td>0.0</td>\n",
       "    </tr>\n",
       "    <tr>\n",
       "      <th>1731</th>\n",
       "      <td>J3_OT_mutTATA</td>\n",
       "      <td>0.0</td>\n",
       "      <td>0.0</td>\n",
       "      <td>0.0</td>\n",
       "      <td>18.0</td>\n",
       "      <td>936.0</td>\n",
       "      <td>6037.0</td>\n",
       "      <td>6672.0</td>\n",
       "      <td>1292.0</td>\n",
       "      <td>45.0</td>\n",
       "      <td>0.0</td>\n",
       "    </tr>\n",
       "  </tbody>\n",
       "</table>\n",
       "<p>1732 rows × 11 columns</p>\n",
       "</div>"
      ],
      "text/plain": [
       "                 ID    0   1000    2000    3000    4000    5000    6000  \\\n",
       "0      poxBp_T7_TGT  6.0  559.0  5172.0  7461.0  1741.0    61.0     0.0   \n",
       "1     poxBp_T17_GAA  0.0    0.0     3.0    96.0  1938.0  7422.0  4942.0   \n",
       "2     poxBp_T18_TGA  0.0    1.0    93.0  1298.0  5064.0  6162.0  2148.0   \n",
       "3     poxBp_T20_GAT  0.0    0.0     1.0    93.0  1576.0  6170.0  5734.0   \n",
       "4     poxBp_T21_AGA  0.0    9.0   274.0  2858.0  6992.0  4239.0   606.0   \n",
       "...             ...  ...    ...     ...     ...     ...     ...     ...   \n",
       "1727    J3_B195_CGC  0.0   83.0  1363.0  5877.0  6013.0  1569.0    94.0   \n",
       "1728    J3_B197_CAA  0.0    3.0   495.0  5398.0  7681.0  1393.0    29.0   \n",
       "1729    J3_B201_TGC  0.0    0.0    10.0   277.0  2954.0  7155.0  4063.0   \n",
       "1730          J3_OT  0.0    0.0     2.0   194.0  3134.0  7945.0  3457.0   \n",
       "1731  J3_OT_mutTATA  0.0    0.0     0.0    18.0   936.0  6037.0  6672.0   \n",
       "\n",
       "        7000  8000 9000  \n",
       "0        0.0   0.0  0.0  \n",
       "1      586.0  13.0  0.0  \n",
       "2      230.0   4.0  0.0  \n",
       "3     1354.0  69.0  3.0  \n",
       "4       22.0   0.0  0.0  \n",
       "...      ...   ...  ...  \n",
       "1727     1.0   0.0  0.0  \n",
       "1728     1.0   0.0  0.0  \n",
       "1729   526.0  15.0  0.0  \n",
       "1730   262.0   6.0  0.0  \n",
       "1731  1292.0  45.0  0.0  \n",
       "\n",
       "[1732 rows x 11 columns]"
      ]
     },
     "execution_count": 19,
     "metadata": {},
     "output_type": "execute_result"
    }
   ],
   "source": [
    "# concat the id with the counts\n",
    "d_bins = np.concatenate((ids, data_counts), axis=1)\n",
    "\n",
    "# create the columns\n",
    "columns = ['ID'] + bins\n",
    "\n",
    "# create the dataframe and export it\n",
    "df_bins = pd.DataFrame(data=d_bins, columns= columns)\n",
    "df_bins.to_excel(\"data/mock_bins_counts.xlsx\")\n",
    "df_bins"
   ]
  }
 ],
 "metadata": {
  "kernelspec": {
   "display_name": "Python 3 (ipykernel)",
   "language": "python",
   "name": "python3"
  },
  "language_info": {
   "codemirror_mode": {
    "name": "ipython",
    "version": 3
   },
   "file_extension": ".py",
   "mimetype": "text/x-python",
   "name": "python",
   "nbconvert_exporter": "python",
   "pygments_lexer": "ipython3",
   "version": "3.9.7"
  }
 },
 "nbformat": 4,
 "nbformat_minor": 4
}
